{
  "metadata": {
    "kernelspec": {
      "name": "python",
      "display_name": "Python (Pyodide)",
      "language": "python"
    },
    "language_info": {
      "codemirror_mode": {
        "name": "python",
        "version": 3
      },
      "file_extension": ".py",
      "mimetype": "text/x-python",
      "name": "python",
      "nbconvert_exporter": "python",
      "pygments_lexer": "ipython3",
      "version": "3.8"
    },
    "widgets": {
      "application/vnd.jupyter.widget-state+json": {
        "version_major": 2,
        "version_minor": 0,
        "state": {}
      }
    }
  },
  "nbformat_minor": 4,
  "nbformat": 4,
  "cells": [
    {
      "cell_type": "code",
      "source": "import pandas as pd\nimport matplotlib.pyplot as plt\n\ndata = {\n    'год': [1992, 1993, 1994, 2001, 2007],\n    'процессор': [10, 11, 15, 17, 18],\n    'материнская плата': [7, 9, 10, 18, 19],\n    'оперативная память': [7, 11, 15, 19, 20],\n    'жесткий диск': [2, 5, 18, 21, 25]\n}\n\ndf = pd.DataFrame(data)\n\n# Построение столбиковой диаграммы\nax = df.plot(x='год', kind='bar', stacked=True, figsize=(10, 6))\nplt.title('Продажи компонентов по годам')\nplt.xlabel('Год')\nplt.ylabel('Количество проданных компонентов')\nplt.legend(title='Компоненты', bbox_to_anchor=(1.05, 1), loc='upper left')\n\nplt.show()",
      "metadata": {
        "trusted": true
      },
      "outputs": [],
      "execution_count": null
    },
    {
      "cell_type": "code",
      "source": "",
      "metadata": {
        "trusted": true
      },
      "outputs": [],
      "execution_count": null
    }
  ]
}